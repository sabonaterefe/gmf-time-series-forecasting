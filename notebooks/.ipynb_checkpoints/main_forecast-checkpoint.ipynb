{
 "cells": [
  {
   "cell_type": "code",
   "execution_count": null,
   "id": "a47cb9cf",
   "metadata": {
    "vscode": {
     "languageId": "plaintext"
    }
   },
   "outputs": [],
   "source": [
    "import os, sys\n",
    "src_path = os.path.abspath(os.path.join(os.getcwd(), \"src\"))\n",
    "if src_path not in sys.path:\n",
    "    sys.path.append(src_path)\n",
    "print(f\"✅ 'src' added to path: {src_path}\")\n",
    "\n",
    "# 📦 2. Imports\n",
    "import pandas as pd\n",
    "import numpy as np\n",
    "import matplotlib.pyplot as plt\n",
    "from src.forecasting.arima_model import train_arima_model\n",
    "from src.forecasting.lstm_model import train_lstm_model\n",
    "from src.utils.data_loader import load_asset_data\n",
    "from src.utils.plotting import plot_forecasts\n",
    "from src.utils.metrics import calculate_rmse, calculate_mape\n",
    "\n",
    "# 📊 3. Configuration\n",
    "ASSETS = [\"TSLA\", \"SPY\", \"BND\"]\n",
    "START_DATE = \"2018-01-01\"\n",
    "END_DATE = \"2024-01-01\"\n",
    "FORECAST_HORIZON = 30\n",
    "USE_LOG_TRANSFORM = True\n",
    "\n",
    "# 🚀 4. Main Forecasting Pipeline\n",
    "def run_forecasting_pipeline(asset: str):\n",
    "    print(f\"\\n🔍 Forecasting {asset} from {START_DATE} to {END_DATE}...\")\n",
    "\n",
    "    # 📥 Load data\n",
    "    series = load_asset_data(asset, START_DATE, END_DATE, log_transform=USE_LOG_TRANSFORM)\n",
    "\n",
    "    # 📈 ARIMA Forecast\n",
    "    arima_forecast, arima_model = train_arima_model(series, forecast_horizon=FORECAST_HORIZON)\n",
    "\n",
    "    # 📉 LSTM Forecast\n",
    "    lstm_forecast, lstm_model = train_lstm_model(series, forecast_horizon=FORECAST_HORIZON)\n",
    "\n",
    "    # 📊 Plot Forecasts\n",
    "    plot_forecasts(series, arima_forecast, lstm_forecast, title=f\"{asset} Forecast: ARIMA vs LSTM\")\n",
    "\n",
    "    # 📋 Evaluation\n",
    "    actual = series[-FORECAST_HORIZON:]\n",
    "    print(f\"\\n📊 Evaluation Metrics for {asset}:\")\n",
    "    print(\"ARIMA:\")\n",
    "    print(\"  RMSE:\", calculate_rmse(actual, arima_forecast))\n",
    "    print(\"  MAPE:\", calculate_mape(actual, arima_forecast))\n",
    "    print(\"LSTM:\")\n",
    "    print(\"  RMSE:\", calculate_rmse(actual, lstm_forecast))\n",
    "    print(\"  MAPE:\", calculate_mape(actual, lstm_forecast))\n",
    "\n",
    "# 🧪 5. Run for TSLA\n",
    "run_forecasting_pipeline(\"TSLA\")\n"
   ]
  }
 ],
 "metadata": {
  "language_info": {
   "name": "python"
  }
 },
 "nbformat": 4,
 "nbformat_minor": 5
}
