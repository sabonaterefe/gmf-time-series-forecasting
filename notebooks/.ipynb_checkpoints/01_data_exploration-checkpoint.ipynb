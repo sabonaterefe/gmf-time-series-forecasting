{
 "cells": [
  {
   "cell_type": "code",
   "execution_count": null,
   "id": "fd4472fc",
   "metadata": {
    "vscode": {
     "languageId": "plaintext"
    }
   },
   "outputs": [],
   "source": [
    "# Ensure src is treated as a module\n",
    "import sys\n",
    "import os\n",
    "sys.path.append(os.path.abspath(\"src\"))\n",
    "\n",
    "# Imports\n",
    "from src.data_loader import fetch_multiple_assets\n",
    "from src.preprocessing import clean_and_engineer\n",
    "from src.eda import plot_prices, plot_returns, plot_volatility\n",
    "from src.utils import adf_test, compute_risk_metrics\n",
    "\n",
    "# Settings\n",
    "assets = ['TSLA', 'BND', 'SPY']\n",
    "start_date = '2015-07-01'\n",
    "end_date = '2025-07-31'\n",
    "\n",
    "# Load and preprocess\n",
    "df = fetch_multiple_assets(assets, start_date, end_date)\n",
    "df = clean_and_engineer(df)\n",
    "\n",
    "# Visualizations\n",
    "plot_prices(df, assets)\n",
    "plot_returns(df, assets)\n",
    "plot_volatility(df, assets)\n",
    "\n",
    "# ADF Tests\n",
    "for ticker in assets:\n",
    "    subset = df[df['Ticker'] == ticker]\n",
    "    adf_test(subset['Adj Close'], title=f'{ticker} Adj Close')\n",
    "    adf_test(subset['Daily Return'], title=f'{ticker} Daily Return')\n",
    "\n",
    "# Risk Metrics\n",
    "risk_df = compute_risk_metrics(df, assets)\n",
    "print(risk_df)\n"
   ]
  }
 ],
 "metadata": {
  "language_info": {
   "name": "python"
  }
 },
 "nbformat": 4,
 "nbformat_minor": 5
}
